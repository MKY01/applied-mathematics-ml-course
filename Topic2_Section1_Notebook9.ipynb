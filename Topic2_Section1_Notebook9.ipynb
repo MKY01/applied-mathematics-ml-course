{
 "cells": [
  {
   "cell_type": "markdown",
   "metadata": {},
   "source": [
    "# Notebook 9 — Supervised Learning Fundamentals\n",
    "\n",
    "You’ll implement and practice core supervised methods:\n",
    "\n",
    "1) Linear Regression (OLS, Regularization, Polynomial features)\n",
    "2) Logistic Regression (classification & calibration)\n",
    "3) k-Nearest Neighbors (k-NN)\n",
    "4) Decision Trees (basics + overfitting control)\n",
    "5) Bias–Variance, Learning Curves & Evaluation\n",
    "\n",
    "All datasets are synthetic to keep things reproducible. Exercises are marked with **TODO**.\n",
    "\n",
    "> Tip: Run top-to-bottom. Use the same random seed for repeatability."
   ]
  },
  {
   "cell_type": "markdown",
   "metadata": {},
   "source": [
    "## Imports & Utility Helpers"
   ]
  },
  {
   "cell_type": "code",
   "execution_count": 1,
   "metadata": {},
   "outputs": [
    {
     "ename": "ModuleNotFoundError",
     "evalue": "No module named 'pandas'",
     "output_type": "error",
     "traceback": [
      "\u001b[31m---------------------------------------------------------------------------\u001b[39m",
      "\u001b[31mModuleNotFoundError\u001b[39m                       Traceback (most recent call last)",
      "\u001b[36mCell\u001b[39m\u001b[36m \u001b[39m\u001b[32mIn[1]\u001b[39m\u001b[32m, line 2\u001b[39m\n\u001b[32m      1\u001b[39m \u001b[38;5;28;01mimport\u001b[39;00m\u001b[38;5;250m \u001b[39m\u001b[34;01mnumpy\u001b[39;00m\u001b[38;5;250m \u001b[39m\u001b[38;5;28;01mas\u001b[39;00m\u001b[38;5;250m \u001b[39m\u001b[34;01mnp\u001b[39;00m\n\u001b[32m----> \u001b[39m\u001b[32m2\u001b[39m \u001b[38;5;28;01mimport\u001b[39;00m\u001b[38;5;250m \u001b[39m\u001b[34;01mpandas\u001b[39;00m\u001b[38;5;250m \u001b[39m\u001b[38;5;28;01mas\u001b[39;00m\u001b[38;5;250m \u001b[39m\u001b[34;01mpd\u001b[39;00m\n\u001b[32m      3\u001b[39m \u001b[38;5;28;01mimport\u001b[39;00m\u001b[38;5;250m \u001b[39m\u001b[34;01mmatplotlib\u001b[39;00m\u001b[34;01m.\u001b[39;00m\u001b[34;01mpyplot\u001b[39;00m\u001b[38;5;250m \u001b[39m\u001b[38;5;28;01mas\u001b[39;00m\u001b[38;5;250m \u001b[39m\u001b[34;01mplt\u001b[39;00m\n\u001b[32m      4\u001b[39m \u001b[38;5;28;01mfrom\u001b[39;00m\u001b[38;5;250m \u001b[39m\u001b[34;01mdataclasses\u001b[39;00m\u001b[38;5;250m \u001b[39m\u001b[38;5;28;01mimport\u001b[39;00m dataclass\n",
      "\u001b[31mModuleNotFoundError\u001b[39m: No module named 'pandas'"
     ]
    }
   ],
   "source": [
    "import numpy as np\n",
    "import pandas as pd\n",
    "import matplotlib.pyplot as plt\n",
    "from dataclasses import dataclass\n",
    "from typing import Tuple\n",
    "\n",
    "from sklearn.model_selection import train_test_split, KFold, cross_val_score, learning_curve\n",
    "from sklearn.preprocessing import StandardScaler, PolynomialFeatures\n",
    "from sklearn.pipeline import Pipeline\n",
    "from sklearn.metrics import mean_squared_error, r2_score, accuracy_score, precision_recall_fscore_support, roc_auc_score, roc_curve, confusion_matrix, ConfusionMatrixDisplay\n",
    "from sklearn.linear_model import LinearRegression, Ridge, Lasso, LogisticRegression\n",
    "from sklearn.neighbors import KNeighborsClassifier\n",
    "from sklearn.tree import DecisionTreeClassifier, plot_tree\n",
    "from sklearn.datasets import make_regression, make_classification, make_moons\n",
    "\n",
    "np.random.seed(42)\n",
    "plt.rcParams['figure.figsize'] = (6,4)"
   ]
  },
  {
   "cell_type": "markdown",
   "metadata": {},
   "source": [
    "---\n",
    "## 1. Linear Regression\n",
    "\n",
    "### 1.1 Ordinary Least Squares (OLS)\n",
    "For y = Xw + ε, OLS solves \\(\\min_w \\|y - Xw\\|^2\\) with closed-form \\(w = (X^\\top X)^{-1} X^\\top y\\) when invertible (libraries use numerically stable solvers).\n",
    "\n",
    "We’ll fit OLS to synthetic data and visualize fit & residuals."
   ]
  },
  {
   "cell_type": "code",
   "execution_count": null,
   "metadata": {},
   "outputs": [],
   "source": [
    "# Synthetic linear regression data\n",
    "X, y = make_regression(n_samples=300, n_features=1, noise=15.0, bias=5.0, random_state=42)\n",
    "X_train, X_test, y_train, y_test = train_test_split(X, y, test_size=0.25, random_state=42)\n",
    "\n",
    "ols = LinearRegression()\n",
    "ols.fit(X_train, y_train)\n",
    "y_pred = ols.predict(X_test)\n",
    "print('OLS coefficients:', ols.coef_, 'intercept:', ols.intercept_)\n",
    "print('Test RMSE:', mean_squared_error(y_test, y_pred, squared=False))\n",
    "print('Test R^2 :', r2_score(y_test, y_pred))\n",
    "\n",
    "xs = np.linspace(X.min()-1, X.max()+1, 200).reshape(-1,1)\n",
    "plt.scatter(X_train, y_train, s=12, alpha=0.6, label='train')\n",
    "plt.scatter(X_test, y_test, s=12, alpha=0.6, label='test')\n",
    "plt.plot(xs, ols.predict(xs), label='OLS fit')\n",
    "plt.legend(); plt.title('Linear Regression: OLS fit'); plt.show()\n",
    "\n",
    "resid = y_test - y_pred\n",
    "plt.scatter(y_pred, resid, s=14)\n",
    "plt.axhline(0, linestyle='--')\n",
    "plt.xlabel('Predicted'); plt.ylabel('Residual'); plt.title('Residual Plot'); plt.show()"
   ]
  },
  {
   "cell_type": "markdown",
   "metadata": {},
   "source": [
    "### 1.2 Polynomial Features & Regularization (Ridge/Lasso)\n",
    "Higher-degree polynomials can overfit. **Ridge (L2)** and **Lasso (L1)** regularization control complexity.\n",
    "\n",
    "We’ll create a noisy nonlinear target and compare OLS vs Ridge vs Lasso across polynomial degrees using CV."
   ]
  },
  {
   "cell_type": "code",
   "execution_count": null,
   "metadata": {},
   "outputs": [],
   "source": [
    "# Nonlinear regression setup\n",
    "rng = np.random.default_rng(0)\n",
    "n = 250\n",
    "x = np.linspace(-3, 3, n)\n",
    "y_true = np.sin(x) + 0.3*np.cos(3*x)\n",
    "y_noisy = y_true + 0.4*rng.standard_normal(n)\n",
    "X = x.reshape(-1,1)\n",
    "X_tr, X_te, y_tr, y_te = train_test_split(X, y_noisy, test_size=0.25, random_state=1)\n",
    "\n",
    "def model_score(model):\n",
    "    model.fit(X_tr, y_tr)\n",
    "    pred = model.predict(X_te)\n",
    "    return mean_squared_error(y_te, pred, squared=False)\n",
    "\n",
    "degrees = [1, 3, 5, 9]\n",
    "results = []\n",
    "for d in degrees:\n",
    "    pipe_ols = Pipeline([\n",
    "        ('poly', PolynomialFeatures(d, include_bias=False)),\n",
    "        ('sc', StandardScaler()),\n",
    "        ('lr', LinearRegression())\n",
    "    ])\n",
    "    pipe_ridge = Pipeline([\n",
    "        ('poly', PolynomialFeatures(d, include_bias=False)),\n",
    "        ('sc', StandardScaler()),\n",
    "        ('ridge', Ridge(alpha=1.0))\n",
    "    ])\n",
    "    pipe_lasso = Pipeline([\n",
    "        ('poly', PolynomialFeatures(d, include_bias=False)),\n",
    "        ('sc', StandardScaler()),\n",
    "        ('lasso', Lasso(alpha=0.01, max_iter=20000))\n",
    "    ])\n",
    "    rmse_ols = model_score(pipe_ols)\n",
    "    rmse_ridge = model_score(pipe_ridge)\n",
    "    rmse_lasso = model_score(pipe_lasso)\n",
    "    results.append((d, rmse_ols, rmse_ridge, rmse_lasso))\n",
    "\n",
    "df_res = pd.DataFrame(results, columns=['degree','OLS_RMSE','Ridge_RMSE','Lasso_RMSE'])\n",
    "print(df_res)\n",
    "\n",
    "plt.plot(df_res['degree'], df_res['OLS_RMSE'], marker='o', label='OLS')\n",
    "plt.plot(df_res['degree'], df_res['Ridge_RMSE'], marker='o', label='Ridge')\n",
    "plt.plot(df_res['degree'], df_res['Lasso_RMSE'], marker='o', label='Lasso')\n",
    "plt.xlabel('Polynomial degree'); plt.ylabel('Test RMSE')\n",
    "plt.title('Regularization vs Degree'); plt.legend(); plt.show()\n",
    "\n",
    "# Visualize fits for degree=9\n",
    "d=9\n",
    "grid = np.linspace(x.min(), x.max(), 300).reshape(-1,1)\n",
    "for name, model in [\n",
    "    ('OLS', Pipeline([('poly', PolynomialFeatures(d, include_bias=False)), ('sc', StandardScaler()), ('lr', LinearRegression())])),\n",
    "    ('Ridge', Pipeline([('poly', PolynomialFeatures(d, include_bias=False)), ('sc', StandardScaler()), ('ridge', Ridge(alpha=1.0))])),\n",
    "    ('Lasso', Pipeline([('poly', PolynomialFeatures(d, include_bias=False)), ('sc', StandardScaler()), ('lasso', Lasso(alpha=0.01, max_iter=20000))]))\n",
    "]:\n",
    "    model.fit(X_tr, y_tr); yhat = model.predict(grid)\n",
    "    plt.plot(grid, yhat, label=name)\n",
    "plt.scatter(X_tr, y_tr, s=8, alpha=0.4, label='train')\n",
    "plt.plot(x, y_true, 'k--', label='true')\n",
    "plt.title('Degree 9 fits: OLS vs Ridge vs Lasso'); plt.legend(); plt.show()"
   ]
  },
  {
   "cell_type": "markdown",
   "metadata": {},
   "source": [
    "**Exercise 1 — Ridge/Lasso model selection (CV):**\n",
    "Use K-fold CV on the nonlinear problem to pick `alpha` for Ridge and Lasso separately (search over a grid). Report selected alpha and test RMSE. **(Hint:** `cross_val_score`, negative MSE)."
   ]
  },
  {
   "cell_type": "code",
   "execution_count": null,
   "metadata": {},
   "outputs": [],
   "source": [
    "# TODO Exercise 1\n",
    "alphas = np.logspace(-3, 2, 10)\n",
    "degree = 9\n",
    "# 1) Build pipeline with PolynomialFeatures -> StandardScaler -> Ridge/Lasso\n",
    "# 2) For each alpha, compute CV score (KFold=5), pick best\n",
    "# 3) Retrain on train with best alpha, evaluate on test\n"
   ]
  },
  {
   "cell_type": "markdown",
   "metadata": {},
   "source": [
    "---\n",
    "## 2. Logistic Regression (Classification)\n",
    "\n",
    "Binary logistic models P(y=1|x) = σ(w^T x + b). Minimize log loss; often scale features and use regularization.\n",
    "\n",
    "We’ll compare *linearly separable* vs *non-separable* data and evaluate with AUC/PR, confusion matrix, and calibration curve brief demo."
   ]
  },
  {
   "cell_type": "code",
   "execution_count": null,
   "metadata": {},
   "outputs": [],
   "source": [
    "# Two datasets: linearly separable-ish (make_classification) and non-linear (moons)\n",
    "X_lin, y_lin = make_classification(n_samples=600, n_features=10, n_informative=5, class_sep=1.5, random_state=42)\n",
    "Xl_tr, Xl_te, yl_tr, yl_te = train_test_split(X_lin, y_lin, test_size=0.25, random_state=42)\n",
    "\n",
    "logit = Pipeline([\n",
    "    ('sc', StandardScaler()),\n",
    "    ('lr', LogisticRegression(max_iter=500))\n",
    "])\n",
    "logit.fit(Xl_tr, yl_tr)\n",
    "proba = logit.predict_proba(Xl_te)[:,1]\n",
    "pred = (proba >= 0.5).astype(int)\n",
    "\n",
    "acc = accuracy_score(yl_te, pred)\n",
    "prec, rec, f1, _ = precision_recall_fscore_support(yl_te, pred, average='binary')\n",
    "auc = roc_auc_score(yl_te, proba)\n",
    "print(f'Logistic (linear features) — acc={acc:.3f}, prec={prec:.3f}, rec={rec:.3f}, f1={f1:.3f}, auc={auc:.3f}')\n",
    "\n",
    "cm = confusion_matrix(yl_te, pred)\n",
    "ConfusionMatrixDisplay(cm).plot(); plt.title('Confusion Matrix — Logistic'); plt.show()\n",
    "\n",
    "fpr, tpr, _ = roc_curve(yl_te, proba)\n",
    "plt.plot(fpr, tpr); plt.plot([0,1], [0,1], 'k--'); plt.xlabel('FPR'); plt.ylabel('TPR'); plt.title('ROC Curve'); plt.show()\n",
    "\n",
    "# Nonlinear moons\n",
    "Xm, ym = make_moons(n_samples=500, noise=0.25, random_state=42)\n",
    "Xm_tr, Xm_te, ym_tr, ym_te = train_test_split(Xm, ym, test_size=0.25, random_state=42)\n",
    "logit_poly = Pipeline([\n",
    "    ('poly', PolynomialFeatures(3, include_bias=False)),\n",
    "    ('sc', StandardScaler()),\n",
    "    ('lr', LogisticRegression(max_iter=1000))\n",
    "])\n",
    "logit_poly.fit(Xm_tr, ym_tr)\n",
    "proba2 = logit_poly.predict_proba(Xm_te)[:,1]\n",
    "auc2 = roc_auc_score(ym_te, proba2)\n",
    "print(f'Logistic (moons + poly) — AUC={auc2:.3f}')\n",
    "\n",
    "# Plot decision boundary on moons (for visualization only)\n",
    "xx, yy = np.meshgrid(np.linspace(Xm[:,0].min()-0.5, Xm[:,0].max()+0.5, 200),\n",
    "                     np.linspace(Xm[:,1].min()-0.5, Xm[:,1].max()+0.5, 200))\n",
    "grid = np.c_[xx.ravel(), yy.ravel()]\n",
    "zz = logit_poly.predict_proba(grid)[:,1].reshape(xx.shape)\n",
    "plt.contourf(xx, yy, zz, levels=20, alpha=0.6)\n",
    "plt.scatter(Xm_tr[:,0], Xm_tr[:,1], c=ym_tr, s=10, edgecolor='k', alpha=0.7)\n",
    "plt.title('Logistic + Polynomial Features — Decision Surface'); plt.show()"
   ]
  },
  {
   "cell_type": "markdown",
   "metadata": {},
   "source": [
    "**Exercise 2 — Threshold tuning & class imbalance:**\n",
    "Create an imbalanced dataset (`weights=[0.9, 0.1]` in `make_classification`). Train logistic regression, then:\n",
    "1) Plot PR curve & choose a threshold that maximizes F1.  \n",
    "2) Compare metrics at 0.5 vs chosen threshold.  \n",
    "3) Repeat with `class_weight='balanced'` and compare.\n"
   ]
  },
  {
   "cell_type": "code",
   "execution_count": null,
   "metadata": {},
   "outputs": [],
   "source": [
    "# TODO Exercise 2 — imbalance & threshold tuning\n",
    "from sklearn.metrics import precision_recall_curve\n",
    "\n",
    "# 1) Build imbalanced data, train pipeline (Scaler+LogReg)\n",
    "# 2) precision_recall_curve -> find threshold maximizing F1 = 2PR/(P+R)\n",
    "# 3) Compare metrics at 0.5 vs best threshold; then class_weight='balanced'\n"
   ]
  },
  {
   "cell_type": "markdown",
   "metadata": {},
   "source": [
    "---\n",
    "## 3. k-Nearest Neighbors (k-NN)\n",
    "\n",
    "Instance-based learner; complexity at prediction time. Sensitive to feature scaling and k.\n",
    "\n",
    "We’ll use k-NN on moons and visualize decision boundaries for different k."
   ]
  },
  {
   "cell_type": "code",
   "execution_count": null,
   "metadata": {},
   "outputs": [],
   "source": [
    "def plot_knn_decision(X, y, k):\n",
    "    model = Pipeline([\n",
    "        ('sc', StandardScaler()),\n",
    "        ('knn', KNeighborsClassifier(n_neighbors=k))\n",
    "    ])\n",
    "    model.fit(X, y)\n",
    "    xx, yy = np.meshgrid(np.linspace(X[:,0].min()-0.5, X[:,0].max()+0.5, 200),\n",
    "                         np.linspace(X[:,1].min()-0.5, X[:,1].max()+0.5, 200))\n",
    "    grid = np.c_[xx.ravel(), yy.ravel()]\n",
    "    zz = model.predict(grid).reshape(xx.shape)\n",
    "    plt.contourf(xx, yy, zz, alpha=0.4)\n",
    "    plt.scatter(X[:,0], X[:,1], c=y, s=10, edgecolor='k', alpha=0.7)\n",
    "    plt.title(f'k-NN Decision Surface (k={k})')\n",
    "    plt.show()\n",
    "    return model\n",
    "\n",
    "Xm, ym = make_moons(n_samples=400, noise=0.25, random_state=12)\n",
    "for k in [1, 3, 7, 21]:\n",
    "    _ = plot_knn_decision(Xm, ym, k)\n",
    "\n",
    "# Simple CV to pick k by accuracy\n",
    "scores = []\n",
    "for k in range(1, 26, 2):\n",
    "    model = Pipeline([('sc', StandardScaler()), ('knn', KNeighborsClassifier(n_neighbors=k))])\n",
    "    acc = cross_val_score(model, Xm, ym, cv=5, scoring='accuracy').mean()\n",
    "    scores.append((k, acc))\n",
    "dfk = pd.DataFrame(scores, columns=['k','cv_acc'])\n",
    "print(dfk.head())\n",
    "plt.plot(dfk['k'], dfk['cv_acc'], marker='o'); plt.xlabel('k'); plt.ylabel('CV accuracy'); plt.title('k selection via CV'); plt.show()"
   ]
  },
  {
   "cell_type": "markdown",
   "metadata": {},
   "source": [
    "**Exercise 3 — Distance metrics & scaling:**\n",
    "Compare k-NN with and without `StandardScaler` on a dataset with heterogeneous feature scales (e.g., concatenate moons with an extra unscaled feature). Try `metric='manhattan'` vs default. Summarize observations."
   ]
  },
  {
   "cell_type": "code",
   "execution_count": null,
   "metadata": {},
   "outputs": [],
   "source": [
    "# TODO Exercise 3\n",
    "# 1) Create data with mixed scales: Xm plus a large-scale extra feature\n",
    "# 2) Compare pipelines: with/without StandardScaler; metric euclidean vs manhattan\n",
    "# 3) Use CV accuracy or ROC-AUC (if binarized probs via kneighbors distances)\n"
   ]
  },
  {
   "cell_type": "markdown",
   "metadata": {},
   "source": [
    "---\n",
    "## 4. Decision Trees\n",
    "\n",
    "Greedy partitions to maximize impurity reduction (Gini/Entropy). High-variance learners; control with depth/min-samples.\n",
    "\n",
    "We’ll train a tree on moons and show how max_depth affects overfitting and training/test accuracy."
   ]
  },
  {
   "cell_type": "code",
   "execution_count": null,
   "metadata": {},
   "outputs": [],
   "source": [
    "Xm, ym = make_moons(n_samples=500, noise=0.3, random_state=0)\n",
    "X_tr, X_te, y_tr, y_te = train_test_split(Xm, ym, test_size=0.3, random_state=0)\n",
    "\n",
    "depths = [1, 2, 3, 4, 6, 10, None]\n",
    "rows = []\n",
    "for d in depths:\n",
    "    clf = DecisionTreeClassifier(max_depth=d, random_state=0)\n",
    "    clf.fit(X_tr, y_tr)\n",
    "    tr_acc = clf.score(X_tr, y_tr)\n",
    "    te_acc = clf.score(X_te, y_te)\n",
    "    rows.append((str(d), tr_acc, te_acc))\n",
    "df = pd.DataFrame(rows, columns=['max_depth','train_acc','test_acc'])\n",
    "print(df)\n",
    "plt.plot(df['max_depth'], df['train_acc'], marker='o', label='train')\n",
    "plt.plot(df['max_depth'], df['test_acc'], marker='o', label='test')\n",
    "plt.xlabel('max_depth'); plt.ylabel('accuracy'); plt.title('Decision Tree — Depth vs Accuracy'); plt.legend(); plt.show()\n",
    "\n",
    "# Visualize a small tree\n",
    "small_tree = DecisionTreeClassifier(max_depth=3, random_state=0).fit(X_tr, y_tr)\n",
    "plt.figure(figsize=(8,5))\n",
    "plot_tree(small_tree, feature_names=['x1','x2'], class_names=['0','1'], filled=True, impurity=True)\n",
    "plt.title('Decision Tree (depth=3)'); plt.show()"
   ]
  },
  {
   "cell_type": "markdown",
   "metadata": {},
   "source": [
    "**Exercise 4 — Tree hyperparameters:**\n",
    "Grid-search `max_depth`, `min_samples_split`, and `min_samples_leaf` using 5-fold CV on moons. Plot the best validation accuracy vs depth and show the confusion matrix for the best model on the held-out test set."
   ]
  },
  {
   "cell_type": "code",
   "execution_count": null,
   "metadata": {},
   "outputs": [],
   "source": [
    "# TODO Exercise 4\n",
    "from sklearn.model_selection import GridSearchCV\n",
    "\n",
    "# 1) Grid over depth, min_samples_split, min_samples_leaf\n",
    "# 2) Fit on train, choose best by CV\n",
    "# 3) Evaluate on test, plot CM\n"
   ]
  },
  {
   "cell_type": "markdown",
   "metadata": {},
   "source": [
    "---\n",
    "## 5. Bias–Variance, Learning Curves & Evaluation\n",
    "\n",
    "**Bias–Variance:**\n",
    "- High bias (underfit): training & validation error both high; increasing model complexity helps.\n",
    "- High variance (overfit): training error low, validation error high; more data/regularization helps.\n",
    "\n",
    "We’ll draw **learning curves** for a tree and logistic regression on the moons dataset and compare generalization behavior.\n",
    "\n",
    "We’ll also recap classification metrics briefly (acc, precision/recall/F1, ROC-AUC)."
   ]
  },
  {
   "cell_type": "code",
   "execution_count": null,
   "metadata": {},
   "outputs": [],
   "source": [
    "def plot_learning_curves(estimator, X, y, title='Learning Curve'):\n",
    "    train_sizes, train_scores, val_scores = learning_curve(\n",
    "        estimator, X, y, cv=5, train_sizes=np.linspace(0.1, 1.0, 8), scoring='accuracy', random_state=0)\n",
    "    train_mean = train_scores.mean(axis=1)\n",
    "    val_mean = val_scores.mean(axis=1)\n",
    "    plt.plot(train_sizes, train_mean, marker='o', label='train acc')\n",
    "    plt.plot(train_sizes, val_mean, marker='o', label='val acc')\n",
    "    plt.xlabel('Training size'); plt.ylabel('Accuracy'); plt.title(title); plt.legend(); plt.show()\n",
    "\n",
    "Xm, ym = make_moons(n_samples=800, noise=0.3, random_state=7)\n",
    "\n",
    "plot_learning_curves(DecisionTreeClassifier(max_depth=None, random_state=0), Xm, ym,\n",
    "                     title='Learning Curve — Decision Tree (high variance)')\n",
    "\n",
    "logit_poly = Pipeline([\n",
    "    ('poly', PolynomialFeatures(3, include_bias=False)),\n",
    "    ('sc', StandardScaler()),\n",
    "    ('lr', LogisticRegression(max_iter=1000))\n",
    "])\n",
    "plot_learning_curves(logit_poly, Xm, ym, title='Learning Curve — Logistic + Poly (moderate bias/variance)')"
   ]
  },
  {
   "cell_type": "markdown",
   "metadata": {},
   "source": [
    "**Exercise 5 — Regression learning curves & noise:**\n",
    "On the nonlinear regression dataset from Section 1.2, draw learning curves for OLS (degree=9) and Ridge (degree=9, tuned alpha). Increase noise level and observe how curves change. Summarize bias/variance observations in markdown after plots."
   ]
  },
  {
   "cell_type": "code",
   "execution_count": null,
   "metadata": {},
   "outputs": [],
   "source": [
    "# TODO Exercise 5\n",
    "# 1) Recreate nonlinear regression data with adjustable noise\n",
    "# 2) Plot learning curves (use scoring='neg_root_mean_squared_error' or custom CV)\n",
    "# 3) Compare OLS vs Ridge (alpha from Exercise 1)\n"
   ]
  },
  {
   "cell_type": "markdown",
   "metadata": {},
   "source": [
    "---\n",
    "## 6. Capstone Mini-Project — Model Comparison Pipeline\n",
    "\n",
    "Build a compact experiment runner to compare **Logistic (linear & poly)**, **k-NN**, and **Decision Tree** on the moons dataset with 5-fold CV. Report:\n",
    "- Mean accuracy, ROC-AUC\n",
    "- Best hyperparameters (k, depth)\n",
    "- Final test-set metrics and confusion matrix for the best model\n",
    "\n",
    "You can expand this later into a more general experiment scaffold for future notebooks."
   ]
  },
  {
   "cell_type": "code",
   "execution_count": null,
   "metadata": {},
   "outputs": [],
   "source": [
    "# Capstone scaffold (feel free to extend)\n",
    "from sklearn.base import clone\n",
    "\n",
    "Xm, ym = make_moons(n_samples=1000, noise=0.35, random_state=13)\n",
    "X_tr, X_te, y_tr, y_te = train_test_split(Xm, ym, test_size=0.25, random_state=13)\n",
    "\n",
    "candidates = {\n",
    "    'logistic_linear': Pipeline([('sc', StandardScaler()), ('lr', LogisticRegression(max_iter=1000))]),\n",
    "    'logistic_poly3': Pipeline([('poly', PolynomialFeatures(3, include_bias=False)), ('sc', StandardScaler()), ('lr', LogisticRegression(max_iter=1000))]),\n",
    "    'knn_k': None,  # set below per k\n",
    "    'tree': None    # set below per grid\n",
    "}\n",
    "\n",
    "cv = KFold(n_splits=5, shuffle=True, random_state=0)\n",
    "\n",
    "def eval_model(model, X, y):\n",
    "    acc = cross_val_score(model, X, y, cv=cv, scoring='accuracy').mean()\n",
    "    return acc\n",
    "\n",
    "# Evaluate logistic models\n",
    "scores = []\n",
    "for name in ['logistic_linear','logistic_poly3']:\n",
    "    acc = eval_model(candidates[name], Xm, ym)\n",
    "    scores.append((name, acc, None))\n",
    "\n",
    "# kNN sweep\n",
    "best_knn = None; best_acc = -np.inf; best_k = None\n",
    "for k in range(1, 32, 2):\n",
    "    model = Pipeline([('sc', StandardScaler()), ('knn', KNeighborsClassifier(n_neighbors=k))])\n",
    "    acc = eval_model(model, Xm, ym)\n",
    "    if acc > best_acc:\n",
    "        best_acc, best_knn, best_k = acc, model, k\n",
    "scores.append((f'knn_k={best_k}', best_acc, {'k':best_k}))\n",
    "\n",
    "# Tree sweep (depth only for simplicity)\n",
    "best_tree = None; best_acc_t = -np.inf; best_d = None\n",
    "for d in [1,2,3,4,6,8,10,None]:\n",
    "    model = DecisionTreeClassifier(max_depth=d, random_state=0)\n",
    "    acc = cross_val_score(model, Xm, ym, cv=cv, scoring='accuracy').mean()\n",
    "    if acc > best_acc_t:\n",
    "        best_acc_t, best_tree, best_d = acc, model, d\n",
    "scores.append((f'tree_depth={best_d}', best_acc_t, {'max_depth':str(best_d)}))\n",
    "\n",
    "df_scores = pd.DataFrame(scores, columns=['model','cv_acc','params'])\n",
    "df_scores = df_scores.sort_values('cv_acc', ascending=False)\n",
    "print(df_scores)\n",
    "\n",
    "# Train best on train set, evaluate on test with ROC-AUC\n",
    "best_name = df_scores.iloc[0]['model']\n",
    "if best_name.startswith('knn'):\n",
    "    final = best_knn\n",
    "elif best_name.startswith('tree'):\n",
    "    final = Pipeline([('id', None)])  # dummy\n",
    "    final = best_tree\n",
    "elif best_name == 'logistic_linear':\n",
    "    final = candidates['logistic_linear']\n",
    "else:\n",
    "    final = candidates['logistic_poly3']\n",
    "\n",
    "final = clone(final)\n",
    "final.fit(X_tr, y_tr)\n",
    "\n",
    "if hasattr(final, 'predict_proba'):\n",
    "    prob = final.predict_proba(X_te)[:,1]\n",
    "    auc = roc_auc_score(y_te, prob)\n",
    "else:\n",
    "    # for DecisionTreeClassifier we do have predict_proba; kept for completeness\n",
    "    prob = final.predict_proba(X_te)[:,1]\n",
    "    auc = roc_auc_score(y_te, prob)\n",
    "\n",
    "pred = final.predict(X_te)\n",
    "acc = accuracy_score(y_te, pred)\n",
    "print(f'Best={best_name} | Test acc={acc:.3f}, AUC={auc:.3f}')\n",
    "ConfusionMatrixDisplay(confusion_matrix(y_te, pred)).plot()\n",
    "plt.title(f'Confusion Matrix — {best_name}'); plt.show()"
   ]
  },
  {
   "cell_type": "markdown",
   "metadata": {},
   "source": [
    "## Wrap-up\n",
    "- **Linear models**: start simple; add polynomial features for nonlinearity; control with **Ridge/Lasso**.\n",
    "- **Logistic regression**: strong baseline; scale features; tune threshold for business metrics.\n",
    "- **k-NN**: sensitive to scaling & k; great baseline for small/low-dim problems.\n",
    "- **Decision trees**: interpretable; high variance; control with depth/min samples; ensembles later.\n",
    "- **Bias–Variance**: diagnose with **learning curves**; fight overfit with regularization, more data, simpler models.\n",
    "\n",
    "Next notebooks: **Unsupervised Learning, Ensembles, and Model Evaluation in depth**."
   ]
  }
 ],
 "metadata": {
  "kernelspec": {
   "display_name": "Python 3",
   "language": "python",
   "name": "python3"
  },
  "language_info": {
   "codemirror_mode": {
    "name": "ipython",
    "version": 3
   },
   "file_extension": ".py",
   "mimetype": "text/x-python",
   "name": "python",
   "nbconvert_exporter": "python",
   "pygments_lexer": "ipython3",
   "version": "3.12.11"
  }
 },
 "nbformat": 4,
 "nbformat_minor": 5
}
