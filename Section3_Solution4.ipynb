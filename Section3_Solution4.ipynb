{
 "cells": [
  {
   "cell_type": "markdown",
   "id": "8de003df",
   "metadata": {},
   "source": [
    "# 📓 Notebook 4 — Calculus for Machine Learning (Solutions)\n",
    "\n",
    "This notebook contains the worked solutions to the exercises in the Calculus for Machine Learning notebook."
   ]
  },
  {
   "cell_type": "markdown",
   "id": "eb3beeb5",
   "metadata": {},
   "source": [
    "## **Q1. Differentiate**\n",
    "$$f(x) = 5x^3 - 4x^2 + 7x - 9$$"
   ]
  },
  {
   "cell_type": "code",
   "execution_count": 2,
   "id": "f91e814d",
   "metadata": {},
   "outputs": [
    {
     "data": {
      "text/latex": [
       "$\\displaystyle 15 x^{2} - 8 x + 7$"
      ],
      "text/plain": [
       "15*x**2 - 8*x + 7"
      ]
     },
     "execution_count": 2,
     "metadata": {},
     "output_type": "execute_result"
    }
   ],
   "source": [
    "import sympy as sp\n",
    "\n",
    "x = sp.Symbol('x')\n",
    "f = 5*x**3 - 4*x**2 + 7*x - 9\n",
    "f_prime = sp.diff(f, x)\n",
    "f_prime"
   ]
  },
  {
   "cell_type": "markdown",
   "id": "9e17d448",
   "metadata": {},
   "source": [
    "**Answer:** $f'(x) = 15x^2 - 8x + 7$"
   ]
  },
  {
   "cell_type": "markdown",
   "id": "5a7a5bce",
   "metadata": {},
   "source": [
    "## **Q2. Partial Derivative**\n",
    "$$h(x,y) = e^{xy} + y^3$$"
   ]
  },
  {
   "cell_type": "code",
   "execution_count": 3,
   "id": "38c06b00",
   "metadata": {},
   "outputs": [
    {
     "data": {
      "text/latex": [
       "$\\displaystyle y e^{x y}$"
      ],
      "text/plain": [
       "y*exp(x*y)"
      ]
     },
     "execution_count": 3,
     "metadata": {},
     "output_type": "execute_result"
    }
   ],
   "source": [
    "x, y = sp.symbols('x y')\n",
    "h = sp.exp(x*y) + y**3\n",
    "\n",
    "partial_x = sp.diff(h, x)\n",
    "partial_x"
   ]
  },
  {
   "cell_type": "markdown",
   "id": "e0a5a626",
   "metadata": {},
   "source": [
    "**Answer:** $\\frac{\\partial h}{\\partial x} = y e^{xy}$"
   ]
  },
  {
   "cell_type": "markdown",
   "id": "6319c4ca",
   "metadata": {},
   "source": [
    "## **Q3. Integration**\n",
    "$$\\int_0^1 x^2 e^x dx$$"
   ]
  },
  {
   "cell_type": "code",
   "execution_count": 4,
   "id": "fda4ab1b",
   "metadata": {},
   "outputs": [
    {
     "data": {
      "text/latex": [
       "$\\displaystyle -2 + e$"
      ],
      "text/plain": [
       "-2 + E"
      ]
     },
     "execution_count": 4,
     "metadata": {},
     "output_type": "execute_result"
    }
   ],
   "source": [
    "integral_value = sp.integrate(x**2 * sp.exp(x), (x, 0, 1))\n",
    "integral_value"
   ]
  },
  {
   "cell_type": "markdown",
   "id": "13c43819",
   "metadata": {},
   "source": [
    "**Answer:** $e - 2$ (approximately 0.71828)"
   ]
  },
  {
   "cell_type": "markdown",
   "id": "a4a826a7",
   "metadata": {},
   "source": [
    "## **Q4. Gradient Descent with Higher Learning Rate**"
   ]
  },
  {
   "cell_type": "code",
   "execution_count": 5,
   "id": "5c3c5e2d",
   "metadata": {},
   "outputs": [
    {
     "name": "stdout",
     "output_type": "stream",
     "text": [
      "LR=0.01 => m: 1.556, b: 0.014\n",
      "LR=0.1  => m: -4701585926832416600743109485792265970768616884027519255894752140081670363942337305149799565768266398461492058727405869979926998567354368.000, b: -1302263911559798607243794201122858171945092127365331280479614881762399135998078902434684966424380232591757534307689807993465749444231168.000\n"
     ]
    },
    {
     "data": {
      "image/png": "[encoded data removed]",
      "text/plain": [
       "<Figure size 640x480 with 1 Axes>"
      ]
     },
     "metadata": {},
     "output_type": "display_data"
    }
   ],
   "source": [
    "import numpy as np\n",
    "import matplotlib.pyplot as plt\n",
    "\n",
    "# Sample data\n",
    "X = np.array([1, 2, 3, 4, 5])\n",
    "y = np.array([1.5, 3.7, 4.1, 5.9, 8.2])\n",
    "\n",
    "def gradient_descent(alpha):\n",
    "    m, b = 0.0, 0.0\n",
    "    epochs = 1000\n",
    "    n = len(X)\n",
    "    for _ in range(epochs):\n",
    "        y_pred = m*X + b\n",
    "        dm = (-2/n) * np.sum(X * (y - y_pred))\n",
    "        db = (-2/n) * np.sum(y - y_pred)\n",
    "        m -= alpha * dm\n",
    "        b -= alpha * db\n",
    "    return m, b\n",
    "\n",
    "# Original learning rate\n",
    "m1, b1 = gradient_descent(0.01)\n",
    "\n",
    "# Higher learning rate\n",
    "m2, b2 = gradient_descent(0.1)\n",
    "\n",
    "print(f\"LR=0.01 => m: {m1:.3f}, b: {b1:.3f}\")\n",
    "print(f\"LR=0.1  => m: {m2:.3f}, b: {b2:.3f}\")\n",
    "\n",
    "# Plot comparison\n",
    "plt.scatter(X, y, label=\"Data\")\n",
    "plt.plot(X, m1*X + b1, label=\"LR=0.01\", color='red')\n",
    "plt.plot(X, m2*X + b2, label=\"LR=0.1\", color='green')\n",
    "plt.legend()\n",
    "plt.show()"
   ]
  },
  {
   "cell_type": "markdown",
   "id": "b19229f6",
   "metadata": {},
   "source": [
    "**Answer:** The higher learning rate may converge faster but risks overshooting the minimum depending on the dataset."
   ]
  }
 ],
 "metadata": {
  "kernelspec": {
   "display_name": "Python 3",
   "language": "python",
   "name": "python3"
  },
  "language_info": {
   "codemirror_mode": {
    "name": "ipython",
    "version": 3
   },
   "file_extension": ".py",
   "mimetype": "text/x-python",
   "name": "python",
   "nbconvert_exporter": "python",
   "pygments_lexer": "ipython3",
   "version": "3.12.11"
  }
 },
 "nbformat": 4,
 "nbformat_minor": 5
}
