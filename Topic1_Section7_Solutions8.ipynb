{
 "cells": [
  {
   "cell_type": "markdown",
   "metadata": {},
   "source": [
    "# Notebook 8 — Advanced Math Topics for AI (Solutions)\n",
    "\n",
    "This notebook contains worked-out **solutions** to the exercises in Notebook 8."
   ]
  },
  {
   "cell_type": "markdown",
   "metadata": {},
   "source": [
    "## Exercise 1 Solution — KL Divergence\n",
    "\n",
    "We compute KL divergence between two discrete distributions `P` and `Q`."
   ]
  },
  {
   "cell_type": "code",
   "execution_count": 1,
   "metadata": {},
   "outputs": [
    {
     "data": {
      "text/plain": [
       "np.float64(0.020135513550688877)"
      ]
     },
     "execution_count": 1,
     "metadata": {},
     "output_type": "execute_result"
    }
   ],
   "source": [
    "import numpy as np\n",
    "\n",
    "P = np.array([0.4, 0.6])\n",
    "Q = np.array([0.5, 0.5])\n",
    "\n",
    "kl_div = np.sum(P * np.log(P / Q))\n",
    "kl_div"
   ]
  },
  {
   "cell_type": "markdown",
   "metadata": {},
   "source": [
    "**Explanation:**\n",
    "- KL divergence measures how one probability distribution diverges from another.\n",
    "- Here `D_KL(P||Q)` ≈ 0.0201, meaning `P` is close to `Q`."
   ]
  },
  {
   "cell_type": "markdown",
   "metadata": {},
   "source": [
    "## Exercise 2 Solution — Multivariate Gaussian PDF\n",
    "\n",
    "We compute the PDF of a multivariate normal distribution."
   ]
  },
  {
   "cell_type": "code",
   "execution_count": 2,
   "metadata": {},
   "outputs": [
    {
     "data": {
      "text/plain": [
       "np.float64(0.17539710630868563)"
      ]
     },
     "execution_count": 2,
     "metadata": {},
     "output_type": "execute_result"
    }
   ],
   "source": [
    "from scipy.stats import multivariate_normal\n",
    "\n",
    "mean = np.array([0, 0])\n",
    "cov = np.array([[1, 0.5], [0.5, 1]])\n",
    "\n",
    "rv = multivariate_normal(mean, cov)\n",
    "pdf_val = rv.pdf([0.2, -0.1])\n",
    "pdf_val"
   ]
  },
  {
   "cell_type": "markdown",
   "metadata": {},
   "source": [
    "**Explanation:**\n",
    "- The `multivariate_normal` function allows us to evaluate PDF values for arbitrary points.\n",
    "- Useful in ML for Gaussian mixture models, anomaly detection, etc."
   ]
  },
  {
   "cell_type": "markdown",
   "metadata": {},
   "source": [
    "## Exercise 3 Solution — PCA from Covariance Matrix\n",
    "\n",
    "We implement PCA using eigen decomposition of the covariance matrix."
   ]
  },
  {
   "cell_type": "code",
   "execution_count": 3,
   "metadata": {},
   "outputs": [
    {
     "data": {
      "text/plain": [
       "array([ 1.08643242, -2.3089372 ,  1.24191895,  0.34078247,  2.18429003])"
      ]
     },
     "execution_count": 3,
     "metadata": {},
     "output_type": "execute_result"
    }
   ],
   "source": [
    "from sklearn.preprocessing import StandardScaler\n",
    "\n",
    "# Sample data\n",
    "X = np.array([[2.5, 2.4], [0.5, 0.7], [2.2, 2.9], [1.9, 2.2], [3.1, 3.0], [2.3, 2.7], [2, 1.6], [1, 1.1], [1.5, 1.6], [1.1, 0.9]])\n",
    "\n",
    "# Standardize\n",
    "X_std = StandardScaler().fit_transform(X)\n",
    "\n",
    "# Covariance matrix\n",
    "cov_matrix = np.cov(X_std.T)\n",
    "\n",
    "# Eigen decomposition\n",
    "eig_vals, eig_vecs = np.linalg.eig(cov_matrix)\n",
    "\n",
    "# Sort eigenvalues & eigenvectors\n",
    "idx = np.argsort(eig_vals)[::-1]\n",
    "eig_vals, eig_vecs = eig_vals[idx], eig_vecs[:, idx]\n",
    "\n",
    "# Project onto first principal component\n",
    "X_pca = X_std.dot(eig_vecs[:, 0])\n",
    "X_pca[:5]  # show first 5 projections"
   ]
  },
  {
   "cell_type": "markdown",
   "metadata": {},
   "source": [
    "**Explanation:**\n",
    "- PCA finds directions of maximum variance.\n",
    "- Eigenvectors = principal components, Eigenvalues = variance explained.\n",
    "- Here we projected data onto the 1st principal component."
   ]
  },
  {
   "cell_type": "markdown",
   "metadata": {},
   "source": [
    "## Exercise 4 Solution — Fourier Transform Example\n",
    "\n",
    "We compute a Fourier transform of a simple signal."
   ]
  },
  {
   "cell_type": "code",
   "execution_count": 4,
   "metadata": {},
   "outputs": [
    {
     "data": {
      "image/png": "[encoded data removed]",
      "text/plain": [
       "<Figure size 800x400 with 1 Axes>"
      ]
     },
     "metadata": {},
     "output_type": "display_data"
    }
   ],
   "source": [
    "import matplotlib.pyplot as plt\n",
    "\n",
    "# Create a signal (sum of 2 sinusoids)\n",
    "t = np.linspace(0, 1, 500)\n",
    "signal = np.sin(2*np.pi*5*t) + 0.5*np.sin(2*np.pi*20*t)\n",
    "\n",
    "# Fourier Transform\n",
    "fft_vals = np.fft.fft(signal)\n",
    "freqs = np.fft.fftfreq(len(signal), d=t[1]-t[0])\n",
    "\n",
    "# Plot\n",
    "plt.figure(figsize=(8,4))\n",
    "plt.plot(freqs[:250], np.abs(fft_vals)[:250])\n",
    "plt.title('Frequency Spectrum')\n",
    "plt.xlabel('Frequency (Hz)')\n",
    "plt.ylabel('Amplitude')\n",
    "plt.show()"
   ]
  },
  {
   "cell_type": "markdown",
   "metadata": {},
   "source": [
    "**Explanation:**\n",
    "- Fourier transform decomposes a signal into frequencies.\n",
    "- Peaks at 5 Hz and 20 Hz correspond to the frequencies in our signal."
   ]
  }
 ],
 "metadata": {
  "kernelspec": {
   "display_name": "Python 3",
   "language": "python",
   "name": "python3"
  },
  "language_info": {
   "codemirror_mode": {
    "name": "ipython",
    "version": 3
   },
   "file_extension": ".py",
   "mimetype": "text/x-python",
   "name": "python",
   "nbconvert_exporter": "python",
   "pygments_lexer": "ipython3",
   "version": "3.12.11"
  }
 },
 "nbformat": 4,
 "nbformat_minor": 2
}
