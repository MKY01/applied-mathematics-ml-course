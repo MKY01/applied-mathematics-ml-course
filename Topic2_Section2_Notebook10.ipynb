{
 "cells": [
  {
   "cell_type": "markdown",
   "metadata": {},
   "source": [
    "# Notebook 10 — Unsupervised Learning (Exercises)\n",
    "\n",
    "In this notebook, you'll practice **unsupervised learning** techniques: clustering and dimensionality reduction."
   ]
  },
  {
   "cell_type": "markdown",
   "metadata": {},
   "source": [
    "## Exercise 1 — k-Means Clustering\n",
    "\n",
    "- Generate a synthetic dataset with 2 clusters.\n",
    "- Apply `k-means` with `k=2`.\n",
    "- Plot the data points colored by cluster assignment.\n",
    "- Print the cluster centers."
   ]
  },
  {
   "cell_type": "code",
   "execution_count": 1,
   "metadata": {},
   "outputs": [],
   "source": [
    "import numpy as np\n",
    "import matplotlib.pyplot as plt\n",
    "from sklearn.datasets import make_blobs\n",
    "from sklearn.cluster import KMeans\n",
    "\n",
    "# TODO: Generate data with 2 clusters\n",
    "X, _ = make_blobs(n_samples=200, centers=2, random_state=42)\n",
    "\n",
    "# TODO: Fit k-means\n",
    "# kmeans = KMeans(n_clusters=2, random_state=42)\n",
    "# y_pred = kmeans.fit_predict(X)\n",
    "\n",
    "# TODO: Plot data points and cluster centers\n",
    "# plt.scatter(X[:,0], X[:,1], c=y_pred, cmap='viridis')\n",
    "# plt.scatter(kmeans.cluster_centers_[:,0], kmeans.cluster_centers_[:,1], c='red', marker='x')\n",
    "# plt.show()"
   ]
  },
  {
   "cell_type": "markdown",
   "metadata": {},
   "source": [
    "## Exercise 2 — Hierarchical Clustering\n",
    "\n",
    "- Use the same dataset from Exercise 1.\n",
    "- Apply **Agglomerative Clustering** with `n_clusters=2`.\n",
    "- Compare results with k-means.\n",
    "- Plot a scatter plot of cluster assignments."
   ]
  },
  {
   "cell_type": "code",
   "execution_count": 2,
   "metadata": {},
   "outputs": [],
   "source": [
    "from sklearn.cluster import AgglomerativeClustering\n",
    "\n",
    "# TODO: Fit Agglomerative Clustering\n",
    "# hc = AgglomerativeClustering(n_clusters=2)\n",
    "# y_hc = hc.fit_predict(X)\n",
    "\n",
    "# TODO: Plot\n",
    "# plt.scatter(X[:,0], X[:,1], c=y_hc, cmap='coolwarm')\n",
    "# plt.show()"
   ]
  },
  {
   "cell_type": "markdown",
   "metadata": {},
   "source": [
    "## Exercise 3 — Principal Component Analysis (PCA)\n",
    "\n",
    "- Generate a 3D dataset with `make_blobs`.\n",
    "- Apply PCA to reduce it to 2D.\n",
    "- Plot the transformed dataset."
   ]
  },
  {
   "cell_type": "code",
   "execution_count": 3,
   "metadata": {},
   "outputs": [],
   "source": [
    "from sklearn.decomposition import PCA\n",
    "\n",
    "# TODO: Generate 3D dataset\n",
    "X3, _ = make_blobs(n_samples=200, centers=3, n_features=3, random_state=42)\n",
    "\n",
    "# TODO: Apply PCA\n",
    "# pca = PCA(n_components=2)\n",
    "# X2 = pca.fit_transform(X3)\n",
    "\n",
    "# TODO: Plot\n",
    "# plt.scatter(X2[:,0], X2[:,1], c='blue')\n",
    "# plt.show()"
   ]
  },
  {
   "cell_type": "markdown",
   "metadata": {},
   "source": [
    "## Exercise 4 — t-SNE for Dimensionality Reduction\n",
    "\n",
    "- Use the MNIST digits dataset (`load_digits`).\n",
    "- Reduce the data to 2D using t-SNE.\n",
    "- Plot the 2D representation colored by digit label."
   ]
  },
  {
   "cell_type": "code",
   "execution_count": 4,
   "metadata": {},
   "outputs": [],
   "source": [
    "from sklearn.datasets import load_digits\n",
    "from sklearn.manifold import TSNE\n",
    "\n",
    "# TODO: Load digits dataset\n",
    "# digits = load_digits()\n",
    "# X_digits, y_digits = digits.data, digits.target\n",
    "\n",
    "# TODO: Apply t-SNE (this may take a minute)\n",
    "# tsne = TSNE(n_components=2, random_state=42)\n",
    "# X_tsne = tsne.fit_transform(X_digits)\n",
    "\n",
    "# TODO: Plot\n",
    "# plt.scatter(X_tsne[:,0], X_tsne[:,1], c=y_digits, cmap='tab10', s=10)\n",
    "# plt.colorbar()\n",
    "# plt.show()"
   ]
  }
 ],
 "metadata": {
  "kernelspec": {
   "display_name": "Python 3",
   "language": "python",
   "name": "python3"
  },
  "language_info": {
   "codemirror_mode": {
    "name": "ipython",
    "version": 3
   },
   "file_extension": ".py",
   "mimetype": "text/x-python",
   "name": "python",
   "nbconvert_exporter": "python",
   "pygments_lexer": "ipython3",
   "version": "3.12.11"
  }
 },
 "nbformat": 4,
 "nbformat_minor": 2
}
