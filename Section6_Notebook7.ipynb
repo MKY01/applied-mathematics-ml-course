{
 "cells": [
  {
   "cell_type": "markdown",
   "metadata": {},
   "source": [
    "# Notebook 7 — Numerical Methods & Scientific Computing\n",
    "\n",
    "Covers floating-point basics, root finding, numerical differentiation & integration, solving linear systems, power iteration, and practical exercises for ML/AI use-cases.\n",
    "\n",
    "Run cells sequentially. Exercises are marked with `# TODO`."
   ]
  },
  {
   "cell_type": "markdown",
   "metadata": {},
   "source": [
    "## 1. Floating-point arithmetic & machine epsilon\n",
    "\n",
    "**Key ideas:**\n",
    "- Numbers in Python are IEEE-754 doubles (approximately 53 bits of mantissa).\n",
    "- Machine epsilon (`eps`) is the smallest number such that `1 + eps != 1`.\n",
    "- Round-off error, cancellation, overflow/underflow are practical concerns.\n",
    "\n",
    "Let's compute machine epsilon and demonstrate catastrophic cancellation."
   ]
  },
  {
   "cell_type": "code",
   "execution_count": 1,
   "metadata": {},
   "outputs": [
    {
     "name": "stdout",
     "output_type": "stream",
     "text": [
      "numpy machine epsilon: 2.220446049250313e-16\n",
      "(a+1)-a = 0.0\n",
      "(b+1)-b = 1.0\n",
      "Spacing near 1.0: 2.220446049250313e-16\n"
     ]
    }
   ],
   "source": [
    "import numpy as np\n",
    "\n",
    "# Machine epsilon (numpy provides it)\n",
    "eps = np.finfo(float).eps\n",
    "print('numpy machine epsilon:', eps)\n",
    "\n",
    "# Demonstrate cancellation: (1e16+1) - 1e16\n",
    "a = 1e16\n",
    "print('(a+1)-a =', (a + 1) - a)\n",
    "\n",
    "# Compare with a smaller magnitude\n",
    "b = 1e4\n",
    "print('(b+1)-b =', (b + 1) - b)\n",
    "\n",
    "# Representable spacing near 1.0\n",
    "print('Spacing near 1.0:', np.nextafter(1.0, 2.0) - 1.0)"
   ]
  },
  {
   "cell_type": "markdown",
   "metadata": {},
   "source": [
    "### Exercise 1\n",
    "- Try `np.finfo(np.float32).eps` and compare to float64 eps.\n",
    "- Experiment with `(a + delta) - a` for different `a` and `delta` to see when addition loses precision."
   ]
  },
  {
   "cell_type": "markdown",
   "metadata": {},
   "source": [
    "## 2. Root finding: Bisection and Newton-Raphson\n",
    "\n",
    "We will implement:\n",
    "- Bisection (guaranteed convergence for continuous functions with sign change)\n",
    "- Newton-Raphson (fast quadratic convergence near root but needs derivative and good init)\n",
    "\n",
    "Problem: find root of f(x) = x^3 - 2x - 5 (real root near x≈2.094)."
   ]
  },
  {
   "cell_type": "code",
   "execution_count": 2,
   "metadata": {},
   "outputs": [
    {
     "name": "stdout",
     "output_type": "stream",
     "text": [
      "Bisection root: 2.094551481306553\n",
      "Newton root   : 2.0945514815423265\n"
     ]
    }
   ],
   "source": [
    "def f(x):\n",
    "    return x**3 - 2*x - 5\n",
    "\n",
    "def f_prime(x):\n",
    "    return 3*x**2 - 2\n",
    "\n",
    "def bisection(func, a, b, tol=1e-8, max_iter=100):\n",
    "    fa, fb = func(a), func(b)\n",
    "    if fa * fb > 0:\n",
    "        raise ValueError('Function has same sign at interval endpoints')\n",
    "    for i in range(max_iter):\n",
    "        c = 0.5*(a + b)\n",
    "        fc = func(c)\n",
    "        if abs(fc) < tol or (b - a)/2 < tol:\n",
    "            return c\n",
    "        if fa * fc <= 0:\n",
    "            b = c\n",
    "            fb = fc\n",
    "        else:\n",
    "            a = c\n",
    "            fa = fc\n",
    "    return 0.5*(a + b)\n",
    "\n",
    "def newton_raphson(func, func_prime, x0, tol=1e-10, max_iter=100):\n",
    "    x = x0\n",
    "    for i in range(max_iter):\n",
    "        fx = func(x)\n",
    "        fpx = func_prime(x)\n",
    "        if fpx == 0:\n",
    "            raise ZeroDivisionError('Zero derivative encountered')\n",
    "        x_new = x - fx / fpx\n",
    "        if abs(x_new - x) < tol:\n",
    "            return x_new\n",
    "        x = x_new\n",
    "    return x\n",
    "\n",
    "# Run methods\n",
    "root_bis = bisection(f, 1, 3)\n",
    "root_newt = newton_raphson(f, f_prime, 2.0)\n",
    "print('Bisection root:', root_bis)\n",
    "print('Newton root   :', root_newt)"
   ]
  },
  {
   "cell_type": "markdown",
   "metadata": {},
   "source": [
    "### Exercise 2\n",
    "- Try Newton-Raphson with a bad initial guess (x0 = -2) and observe behavior.\n",
    "- Implement a safe Newton method with backtracking or max step constraint."
   ]
  },
  {
   "cell_type": "markdown",
   "metadata": {},
   "source": [
    "## 3. Numerical Differentiation\n",
    "\n",
    "Finite differences:\n",
    "- Forward: f'(x) ≈ (f(x+h) - f(x)) / h\n",
    "- Backward: f'(x) ≈ (f(x) - f(x-h)) / h\n",
    "- Central (more accurate): f'(x) ≈ (f(x+h) - f(x-h)) / (2h)\n",
    "\n",
    "Let's compare central vs forward differences for sin(x) at x=1.0."
   ]
  },
  {
   "cell_type": "code",
   "execution_count": 3,
   "metadata": {},
   "outputs": [
    {
     "name": "stdout",
     "output_type": "stream",
     "text": [
      "true derivative cos(1) = 0.5403023058681398\n",
      "h=1e-01: forward_err=4.294e-02, central_err=9.001e-04\n",
      "h=1e-03: forward_err=4.208e-04, central_err=9.005e-08\n",
      "h=1e-06: forward_err=4.207e-07, central_err=2.772e-11\n",
      "h=1e-08: forward_err=1.407e-08, central_err=2.970e-09\n"
     ]
    }
   ],
   "source": [
    "import math\n",
    "\n",
    "def numeric_derivative(func, x, h=1e-6, method='central'):\n",
    "    if method == 'forward':\n",
    "        return (func(x + h) - func(x)) / h\n",
    "    elif method == 'backward':\n",
    "        return (func(x) - func(x - h)) / h\n",
    "    else:\n",
    "        return (func(x + h) - func(x - h)) / (2*h)\n",
    "\n",
    "x0 = 1.0\n",
    "h_vals = [1e-1, 1e-3, 1e-6, 1e-8]\n",
    "true = math.cos(x0)\n",
    "print('true derivative cos(1) =', true)\n",
    "for h in h_vals:\n",
    "    fd = numeric_derivative(math.sin, x0, h, 'forward')\n",
    "    cd = numeric_derivative(math.sin, x0, h, 'central')\n",
    "    print(f'h={h:.0e}: forward_err={abs(fd-true):.3e}, central_err={abs(cd-true):.3e}')"
   ]
  },
  {
   "cell_type": "markdown",
   "metadata": {},
   "source": [
    "### Exercise 3\n",
    "- Plot error vs h (log-log) for forward and central difference and observe the slopes.\n",
    "- Explain why central is more accurate (error ∝ h^2) while forward/backward ∝ h."
   ]
  },
  {
   "cell_type": "markdown",
   "metadata": {},
   "source": [
    "## 4. Numerical Integration\n",
    "\n",
    "Implement trapezoidal rule and Simpson's rule. Compare to analytical integrals and Monte Carlo integration for higher dimensions.\n",
    "\n",
    "Example: ∫₀¹ e^{x} dx = e - 1"
   ]
  },
  {
   "cell_type": "code",
   "execution_count": 4,
   "metadata": {},
   "outputs": [
    {
     "name": "stdout",
     "output_type": "stream",
     "text": [
      "analytic = 1.718281828459045\n",
      "trapezoidal (n=100) = 1.7182961474504177 error= 1.431899137260828e-05\n",
      "simpson (n=100)     = 1.7182818285545043 error= 9.545919610332021e-11\n"
     ]
    }
   ],
   "source": [
    "def trapezoidal_rule(func, a, b, n=1000):\n",
    "    x = np.linspace(a, b, n+1)\n",
    "    y = func(x)\n",
    "    h = (b - a) / n\n",
    "    return (h/2) * (y[0] + 2*y[1:-1].sum() + y[-1])\n",
    "\n",
    "def simpsons_rule(func, a, b, n=1000):\n",
    "    if n % 2 == 1:\n",
    "        n += 1  # Simpson requires even n\n",
    "    x = np.linspace(a, b, n+1)\n",
    "    y = func(x)\n",
    "    h = (b - a) / n\n",
    "    return (h/3) * (y[0] + 4*y[1:-1:2].sum() + 2*y[2:-1:2].sum() + y[-1])\n",
    "\n",
    "import math\n",
    "analytic = math.e - 1\n",
    "trap = trapezoidal_rule(np.exp, 0, 1, n=100)\n",
    "simp = simpsons_rule(np.exp, 0, 1, n=100)\n",
    "print('analytic =', analytic)\n",
    "print('trapezoidal (n=100) =', trap, 'error=', abs(trap-analytic))\n",
    "print('simpson (n=100)     =', simp, 'error=', abs(simp-analytic))"
   ]
  },
  {
   "cell_type": "markdown",
   "metadata": {},
   "source": [
    "### Exercise 4\n",
    "- Implement Monte Carlo integration to estimate ∫₀¹ e^{x} dx and compare variance with n.\n",
    "- Try a 2D Monte Carlo estimate of the integral over [0,1]² of f(x,y)=exp(x+y)."
   ]
  },
  {
   "cell_type": "markdown",
   "metadata": {},
   "source": [
    "## 5. Solving Linear Systems: Gaussian elimination & LU\n",
    "\n",
    "We will use `numpy.linalg.solve` for accuracy, but also show basic LU via `scipy.linalg` (if available).\n",
    "Solve A x = b with A a 3x3 matrix."
   ]
  },
  {
   "cell_type": "code",
   "execution_count": 5,
   "metadata": {},
   "outputs": [
    {
     "name": "stdout",
     "output_type": "stream",
     "text": [
      "Solution x = [ 1. -2. -2.]\n",
      "A @ x = [ 1.00000000e+00 -2.00000000e+00 -2.22044605e-16]\n",
      "\n",
      "LU decomposition available (scipy):\n",
      "P:\n",
      " [[1. 0. 0.]\n",
      " [0. 1. 0.]\n",
      " [0. 0. 1.]]\n",
      "L:\n",
      " [[ 1.          0.          0.        ]\n",
      " [ 0.66666667  1.          0.        ]\n",
      " [-0.33333333 -0.35        1.        ]]\n",
      "U:\n",
      " [[ 3.          2.         -1.        ]\n",
      " [ 0.         -3.33333333  4.66666667]\n",
      " [ 0.          0.          0.3       ]]\n"
     ]
    }
   ],
   "source": [
    "A = np.array([[3.0, 2.0, -1.0],[2.0, -2.0, 4.0],[-1.0, 0.5, -1.0]])\n",
    "b = np.array([1.0, -2.0, 0.0])\n",
    "\n",
    "x = np.linalg.solve(A, b)\n",
    "print('Solution x =', x)\n",
    "\n",
    "# Verify\n",
    "print('A @ x =', A.dot(x))\n",
    "\n",
    "try:\n",
    "    from scipy.linalg import lu\n",
    "    P, L, U = lu(A)\n",
    "    print('\\nLU decomposition available (scipy):')\n",
    "    print('P:\\n', P)\n",
    "    print('L:\\n', L)\n",
    "    print('U:\\n', U)\n",
    "except Exception as e:\n",
    "    print('\\nscipy.linalg.lu not available or import failed:', e)"
   ]
  },
  {
   "cell_type": "markdown",
   "metadata": {},
   "source": [
    "### Exercise 5\n",
    "- Create a near-singular matrix (e.g., rows nearly linearly dependent) and observe numeric instability when solving.\n",
    "- Use `np.linalg.cond(A)` to inspect condition number and relate it to solution sensitivity."
   ]
  },
  {
   "cell_type": "markdown",
   "metadata": {},
   "source": [
    "## 6. Power Iteration for Dominant Eigenpair\n",
    "\n",
    "Power iteration finds the largest eigenvalue and associated eigenvector of a matrix (useful for PageRank-ish tasks and sanity checks)."
   ]
  },
  {
   "cell_type": "code",
   "execution_count": 6,
   "metadata": {},
   "outputs": [
    {
     "name": "stdout",
     "output_type": "stream",
     "text": [
      "Estimated dominant eigenvalue: 4.73205080753773\n",
      "Estimated eigenvector: [0.78867269 0.57735272 0.21132731]\n",
      "\n",
      "Numpy eigenvalues: [4.73205081 3.         1.26794919]\n",
      "Numpy dominant eigenvalue: 4.732050807568877\n"
     ]
    }
   ],
   "source": [
    "def power_iteration(A, num_simulations: int = 100, tol=1e-10):\n",
    "    # Random initial vector\n",
    "    b_k = np.random.rand(A.shape[1])\n",
    "    b_k = b_k / np.linalg.norm(b_k)\n",
    "    lambda_old = 0.0\n",
    "    for _ in range(num_simulations):\n",
    "        # Calculate the matrix-by-vector product\n",
    "        b_k1 = A.dot(b_k)\n",
    "        # Re-normalize the vector\n",
    "        b_k1_norm = np.linalg.norm(b_k1)\n",
    "        b_k = b_k1 / b_k1_norm\n",
    "        lambda_new = b_k.T.dot(A.dot(b_k))\n",
    "        if abs(lambda_new - lambda_old) < tol:\n",
    "            break\n",
    "        lambda_old = lambda_new\n",
    "    return lambda_new, b_k\n",
    "\n",
    "M = np.array([[4.0, 1.0, 0.0],[1.0, 3.0, 1.0],[0.0,1.0,2.0]])\n",
    "eigval, eigvec = power_iteration(M)\n",
    "print('Estimated dominant eigenvalue:', eigval)\n",
    "print('Estimated eigenvector:', eigvec)\n",
    "\n",
    "# Compare to numpy\n",
    "w, v = np.linalg.eig(M)\n",
    "print('\\nNumpy eigenvalues:', w)\n",
    "idx = np.argmax(w)\n",
    "print('Numpy dominant eigenvalue:', w[idx])"
   ]
  },
  {
   "cell_type": "markdown",
   "metadata": {},
   "source": [
    "### Exercise 6\n",
    "- Try power iteration on a large random symmetric matrix (e.g., 200x200) and compare time and accuracy with `np.linalg.eig`.\n",
    "- Discuss when power iteration is preferable (large sparse matrices).\n",
    "\n",
    "## 7. Numerical stability in optimization\n",
    "\n",
    "- Discuss how poorly scaled features affect gradient descent.\n",
    "- Practice: scale features and show faster convergence (or smaller condition number)."
   ]
  },
  {
   "cell_type": "code",
   "execution_count": 7,
   "metadata": {},
   "outputs": [
    {
     "name": "stdout",
     "output_type": "stream",
     "text": [
      "Final losses (unscaled): 6.84495948305069\n",
      "Final losses (scaled)  : 0.009924386487246506\n"
     ]
    },
    {
     "data": {
      "image/png": "[encoded data removed]",
      "text/plain": [
       "<Figure size 640x480 with 1 Axes>"
      ]
     },
     "metadata": {},
     "output_type": "display_data"
    }
   ],
   "source": [
    "# Quick demo: effect of scaling on gradient descent for linear regression\n",
    "np.random.seed(0)\n",
    "X = np.random.rand(100, 1) * 1000  # poorly scaled feature\n",
    "y = 5 + 0.01 * X[:,0] + np.random.randn(100) * 0.1\n",
    "\n",
    "X_scaled = (X - X.mean()) / X.std()\n",
    "\n",
    "def gd_linear(X, y, lr=0.1, epochs=100):\n",
    "    m = 0.0\n",
    "    b = 0.0\n",
    "    n = len(y)\n",
    "    losses = []\n",
    "    for _ in range(epochs):\n",
    "        y_pred = m * X.flatten() + b\n",
    "        dm = (2/n) * np.sum((y_pred - y) * X.flatten())\n",
    "        db = (2/n) * np.sum(y_pred - y)\n",
    "        m -= lr * dm\n",
    "        b -= lr * db\n",
    "        losses.append(np.mean((y_pred - y)**2))\n",
    "    return m, b, losses\n",
    "\n",
    "m1, b1, losses1 = gd_linear(X, y, lr=0.000001, epochs=200)\n",
    "m2, b2, losses2 = gd_linear(X_scaled, y, lr=0.1, epochs=200)\n",
    "\n",
    "print('Final losses (unscaled):', losses1[-1])\n",
    "print('Final losses (scaled)  :', losses2[-1])\n",
    "\n",
    "import matplotlib.pyplot as plt\n",
    "plt.plot(losses1, label='unscaled (small lr)')\n",
    "plt.plot(losses2, label='scaled (larger lr)')\n",
    "plt.yscale('log')\n",
    "plt.legend()\n",
    "plt.title('Effect of Feature Scaling on GD Convergence')\n",
    "plt.show()"
   ]
  },
  {
   "cell_type": "markdown",
   "metadata": {},
   "source": [
    "### Final Exercises (Consolidation)\n",
    "1. Implement bisection, newton with safeguards, and compare iterations required.\n",
    "2. Plot numerical derivative error vs h and fit slope to confirm order.\n",
    "3. Implement Monte Carlo integration for a 3D integral and estimate standard error.\n",
    "4. Create a nearly singular matrix, compute condition number, and show sensitivity of solution to tiny perturbations in b.\n",
    "5. Use power iteration on a sparse random matrix (use `scipy.sparse` if available) and compare time to `scipy.sparse.linalg.eigs`."
   ]
  },
  {
   "cell_type": "markdown",
   "metadata": {},
   "source": [
    "## Notes & References\n",
    "- Numerical Recipes (classic reference)\n",
    "- Trefethen & Bau, *Numerical Linear Algebra*\n",
    "- Higham, *Accuracy and Stability of Numerical Algorithms*\n",
    "- SciPy docs for `scipy.linalg` and `scipy.sparse.linalg`"
   ]
  }
 ],
 "metadata": {
  "kernelspec": {
   "display_name": "Python 3",
   "language": "python",
   "name": "python3"
  },
  "language_info": {
   "codemirror_mode": {
    "name": "ipython",
    "version": 3
   },
   "file_extension": ".py",
   "mimetype": "text/x-python",
   "name": "python",
   "nbconvert_exporter": "python",
   "pygments_lexer": "ipython3",
   "version": "3.12.11"
  }
 },
 "nbformat": 4,
 "nbformat_minor": 5
}
