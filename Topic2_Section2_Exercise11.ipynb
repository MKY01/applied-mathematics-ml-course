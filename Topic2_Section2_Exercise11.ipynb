{
 "cells": [
  {
   "cell_type": "markdown",
   "metadata": {},
   "source": [
    "# Notebook 11 — Ensemble Methods (Exercises)\n",
    "\n",
    "In this notebook, we will explore **bagging, boosting, and random forests** through exercises."
   ]
  },
  {
   "cell_type": "markdown",
   "metadata": {},
   "source": [
    "## Exercise 1 — Bagging with Decision Trees\n",
    "\n",
    "- Generate a synthetic dataset.\n",
    "- Train a BaggingClassifier with decision trees.\n",
    "- Compare accuracy against a single decision tree."
   ]
  },
  {
   "cell_type": "code",
   "execution_count": 1,
   "metadata": {},
   "outputs": [],
   "source": [
    "from sklearn.datasets import make_classification\n",
    "from sklearn.tree import DecisionTreeClassifier\n",
    "from sklearn.ensemble import BaggingClassifier\n",
    "from sklearn.model_selection import train_test_split\n",
    "from sklearn.metrics import accuracy_score\n",
    "\n",
    "# Create dataset\n",
    "X, y = make_classification(n_samples=1000, n_features=20, n_informative=15, n_redundant=5, random_state=42)\n",
    "X_train, X_test, y_train, y_test = train_test_split(X, y, test_size=0.3, random_state=42)\n",
    "\n",
    "# TODO: Train a single Decision Tree and evaluate accuracy\n",
    "# TODO: Train a BaggingClassifier and evaluate accuracy\n",
    "# TODO: Compare results"
   ]
  },
  {
   "cell_type": "markdown",
   "metadata": {},
   "source": [
    "## Exercise 2 — Random Forests\n",
    "\n",
    "- Train a RandomForestClassifier on the same dataset.\n",
    "- Compare performance with BaggingClassifier.\n",
    "- Inspect feature importances."
   ]
  },
  {
   "cell_type": "code",
   "execution_count": 2,
   "metadata": {},
   "outputs": [],
   "source": [
    "from sklearn.ensemble import RandomForestClassifier\n",
    "\n",
    "# TODO: Train a Random Forest and evaluate accuracy\n",
    "# TODO: Print feature importances\n",
    "# TODO: Compare with Bagging results"
   ]
  },
  {
   "cell_type": "markdown",
   "metadata": {},
   "source": [
    "## Exercise 3 — AdaBoost\n",
    "\n",
    "- Train an AdaBoostClassifier on the dataset.\n",
    "- Evaluate accuracy.\n",
    "- Compare with Random Forest and Bagging."
   ]
  },
  {
   "cell_type": "code",
   "execution_count": 3,
   "metadata": {},
   "outputs": [],
   "source": [
    "from sklearn.ensemble import AdaBoostClassifier\n",
    "\n",
    "# TODO: Train AdaBoostClassifier\n",
    "# TODO: Evaluate accuracy\n",
    "# TODO: Compare results with Random Forest and Bagging"
   ]
  },
  {
   "cell_type": "markdown",
   "metadata": {},
   "source": [
    "## Exercise 4 — Gradient Boosting\n",
    "\n",
    "- Train a GradientBoostingClassifier.\n",
    "- Evaluate accuracy.\n",
    "- Compare with AdaBoost and Random Forest."
   ]
  },
  {
   "cell_type": "code",
   "execution_count": 4,
   "metadata": {},
   "outputs": [],
   "source": [
    "from sklearn.ensemble import GradientBoostingClassifier\n",
    "\n",
    "# TODO: Train GradientBoostingClassifier\n",
    "# TODO: Evaluate accuracy\n",
    "# TODO: Compare results with other models"
   ]
  },
  {
   "cell_type": "markdown",
   "metadata": {},
   "source": [
    "## Exercise 5 — Stacking\n",
    "\n",
    "- Train a stacking classifier using Decision Tree, Random Forest, and Gradient Boosting as base learners.\n",
    "- Use Logistic Regression as a meta learner.\n",
    "- Compare performance."
   ]
  },
  {
   "cell_type": "code",
   "execution_count": 5,
   "metadata": {},
   "outputs": [],
   "source": [
    "from sklearn.ensemble import StackingClassifier\n",
    "from sklearn.linear_model import LogisticRegression\n",
    "\n",
    "# TODO: Create base learners (DecisionTree, RandomForest, GradientBoosting)\n",
    "# TODO: Create a StackingClassifier with LogisticRegression as final estimator\n",
    "# TODO: Train and evaluate performance"
   ]
  },
  {
   "cell_type": "markdown",
   "metadata": {},
   "source": [
    "✅ **Your Task:** Complete the TODOs in each cell. Once done, analyze which ensemble method performed best on this dataset and why."
   ]
  }
 ],
 "metadata": {
  "kernelspec": {
   "display_name": "Python 3",
   "language": "python",
   "name": "python3"
  },
  "language_info": {
   "codemirror_mode": {
    "name": "ipython",
    "version": 3
   },
   "file_extension": ".py",
   "mimetype": "text/x-python",
   "name": "python",
   "nbconvert_exporter": "python",
   "pygments_lexer": "ipython3",
   "version": "3.12.11"
  }
 },
 "nbformat": 4,
 "nbformat_minor": 2
}
