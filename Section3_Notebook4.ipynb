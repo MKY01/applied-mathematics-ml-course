{
 "cells": [
  {
   "cell_type": "markdown",
   "metadata": {},
   "source": [
    "# 📓 Notebook 4 — Calculus for Machine Learning\n",
    "\n",
    "In this notebook, we cover the key calculus concepts essential for understanding and implementing machine learning algorithms.\n",
    "\n",
    "## Topics:\n",
    "1. Differentiation Refresher\n",
    "2. Integration Intuition\n",
    "3. Gradient Descent from Scratch\n",
    "4. Exercises"
   ]
  },
  {
   "cell_type": "markdown",
   "metadata": {},
   "source": [
    "## 1️⃣ Differentiation Refresher\n",
    "**Key Concepts:**\n",
    "- **Derivative**: Measures the rate of change of a function.\n",
    "- **Gradient**: Vector of partial derivatives.\n",
    "- **Partial derivative**: Derivative with respect to one variable, holding others constant.\n",
    "- **Chain rule**: Differentiation of composite functions."
   ]
  },
  {
   "cell_type": "code",
   "execution_count": 1,
   "metadata": {},
   "outputs": [
    {
     "name": "stdout",
     "output_type": "stream",
     "text": [
      "Derivative f'(x) = 2*x + 3\n"
     ]
    }
   ],
   "source": [
    "import sympy as sp\n",
    "\n",
    "# Define a variable\n",
    "x = sp.Symbol('x')\n",
    "\n",
    "# Define a function\n",
    "f = x**2 + 3*x + 5\n",
    "\n",
    "# Differentiate\n",
    "f_prime = sp.diff(f, x)\n",
    "print(\"Derivative f'(x) =\", f_prime)"
   ]
  },
  {
   "cell_type": "markdown",
   "metadata": {},
   "source": [
    "### Partial Derivatives Example"
   ]
  },
  {
   "cell_type": "code",
   "execution_count": 2,
   "metadata": {},
   "outputs": [
    {
     "name": "stdout",
     "output_type": "stream",
     "text": [
      "∂g/∂x = 2*x*y\n",
      "∂g/∂y = x**2 + cos(y)\n"
     ]
    }
   ],
   "source": [
    "# Two variables\n",
    "x, y = sp.symbols('x y')\n",
    "\n",
    "# Function of two variables\n",
    "g = x**2 * y + sp.sin(y)\n",
    "\n",
    "# Partial derivatives\n",
    "dg_dx = sp.diff(g, x)\n",
    "dg_dy = sp.diff(g, y)\n",
    "\n",
    "print(\"∂g/∂x =\", dg_dx)\n",
    "print(\"∂g/∂y =\", dg_dy)"
   ]
  },
  {
   "cell_type": "markdown",
   "metadata": {},
   "source": [
    "### Chain Rule Example"
   ]
  },
  {
   "cell_type": "code",
   "execution_count": 3,
   "metadata": {},
   "outputs": [
    {
     "name": "stdout",
     "output_type": "stream",
     "text": [
      "dh/dx = 2*u(x)*cos(u(x)**2)*Derivative(u(x), x)\n"
     ]
    }
   ],
   "source": [
    "u = sp.Function('u')(x)\n",
    "h = sp.sin(u**2)\n",
    "\n",
    "# Derivative using chain rule\n",
    "dh_dx = sp.diff(h, x)\n",
    "print(\"dh/dx =\", dh_dx)"
   ]
  },
  {
   "cell_type": "markdown",
   "metadata": {},
   "source": [
    "## 2️⃣ Integration Intuition\n",
    "**Key Concepts:**\n",
    "- **Indefinite integral**: General form + constant of integration.\n",
    "- **Definite integral**: Area under curve between limits.\n",
    "- **In ML**: Used in probability theory (normalization), expectation calculations."
   ]
  },
  {
   "cell_type": "code",
   "execution_count": 4,
   "metadata": {},
   "outputs": [
    {
     "name": "stdout",
     "output_type": "stream",
     "text": [
      "Indefinite integral of f: x**3/3 + 3*x**2/2 + 5*x\n",
      "Area under f(x) from 0 to 2 = 56/3\n"
     ]
    }
   ],
   "source": [
    "# Indefinite integral\n",
    "F = sp.integrate(f, x)\n",
    "print(\"Indefinite integral of f:\", F)\n",
    "\n",
    "# Definite integral from 0 to 2\n",
    "area = sp.integrate(f, (x, 0, 2))\n",
    "print(\"Area under f(x) from 0 to 2 =\", area)"
   ]
  },
  {
   "cell_type": "markdown",
   "metadata": {},
   "source": [
    "## 3️⃣ Gradient Descent from Scratch\n",
    "**Key Concepts:**\n",
    "- Goal: Minimize a cost function $J(\\theta)$\n",
    "- Update rule:\n",
    "$$\\theta := \\theta - \\alpha \\frac{\\partial J}{\\partial \\theta}$$\n",
    "- $\\alpha$: learning rate."
   ]
  },
  {
   "cell_type": "code",
   "execution_count": 5,
   "metadata": {},
   "outputs": [
    {
     "name": "stdout",
     "output_type": "stream",
     "text": [
      "Final slope (m): 1.556, intercept (b): 0.014\n"
     ]
    },
    {
     "data": {
      "image/png": "[encoded data removed]",
      "text/plain": [
       "<Figure size 640x480 with 1 Axes>"
      ]
     },
     "metadata": {},
     "output_type": "display_data"
    }
   ],
   "source": [
    "import numpy as np\n",
    "import matplotlib.pyplot as plt\n",
    "\n",
    "# Sample data\n",
    "X = np.array([1, 2, 3, 4, 5])\n",
    "y = np.array([1.5, 3.7, 4.1, 5.9, 8.2])\n",
    "\n",
    "# Initialize parameters\n",
    "m, b = 0.0, 0.0\n",
    "alpha = 0.01\n",
    "epochs = 1000\n",
    "n = len(X)\n",
    "\n",
    "# Gradient Descent Loop\n",
    "for _ in range(epochs):\n",
    "    y_pred = m*X + b\n",
    "    dm = (-2/n) * np.sum(X * (y - y_pred))\n",
    "    db = (-2/n) * np.sum(y - y_pred)\n",
    "    m -= alpha * dm\n",
    "    b -= alpha * db\n",
    "\n",
    "print(f\"Final slope (m): {m:.3f}, intercept (b): {b:.3f}\")\n",
    "\n",
    "# Plot\n",
    "plt.scatter(X, y, label=\"Data\")\n",
    "plt.plot(X, m*X + b, color=\"red\", label=\"Fitted line\")\n",
    "plt.legend()\n",
    "plt.show()"
   ]
  },
  {
   "cell_type": "markdown",
   "metadata": {},
   "source": [
    "## 4️⃣ Exercises\n",
    "**Q1.** Differentiate $f(x) = 5x^3 - 4x^2 + 7x - 9$\n",
    "\n",
    "**Q2.** Find $\\partial/\\partial x$ of $h(x,y) = e^{xy} + y^3$\n",
    "\n",
    "**Q3.** Compute $\\int_0^1 x^2 e^x dx$\n",
    "\n",
    "**Q4.** Modify the gradient descent code to:\n",
    "- Use a higher learning rate (0.1)\n",
    "- Compare results with original learning rate"
   ]
  },
  {
   "cell_type": "code",
   "execution_count": 7,
   "id": "708ea23d",
   "metadata": {},
   "outputs": [],
   "source": [
    "from sympy.interactive import printing\n",
    "printing.init_printing()"
   ]
  },
  {
   "cell_type": "code",
   "execution_count": null,
   "id": "33143e72",
   "metadata": {},
   "outputs": [],
   "source": [
    "# Q1. Differentiate f(x) = 5x^3 - 4x^2 + 7x - 9\n",
    "import sympy as sp\n",
    "x = sp.Symbol('x')\n",
    "f = 5*x**3 - 4*x**2 + 7*x - 9\n",
    "f_prime = sp.diff(f, x)\n",
    "display(f_prime)"
   ]
  }
 ],
 "metadata": {
  "kernelspec": {
   "display_name": "Python 3",
   "language": "python",
   "name": "python3"
  },
  "language_info": {
   "codemirror_mode": {
    "name": "ipython",
    "version": 3
   },
   "file_extension": ".py",
   "mimetype": "text/x-python",
   "name": "python",
   "nbconvert_exporter": "python",
   "pygments_lexer": "ipython3",
   "version": "3.12.11"
  }
 },
 "nbformat": 4,
 "nbformat_minor": 5
}
